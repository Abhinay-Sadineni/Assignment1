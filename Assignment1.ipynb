{
 "cells": [
  {
   "cell_type": "markdown",
   "metadata": {},
   "source": [
    "## Assignment1: Recommendation Systems"
   ]
  },
  {
   "cell_type": "markdown",
   "metadata": {},
   "source": [
    "#### Question 1 :"
   ]
  },
  {
   "cell_type": "code",
   "execution_count": 131,
   "metadata": {},
   "outputs": [],
   "source": [
    "import pandas as pd\n",
    "import numpy as np\n",
    "\n",
    "# Replace 'file_path.csv' with the actual path to your CSV file\n",
    "posts_df = pd.read_csv('./csv/Posts.csv')\n",
    "Tags = pd.read_csv('./csv/Tags.csv')\n",
    "\n",
    "answers_df = posts_df[posts_df['PostTypeId'] == 2][['Id', 'OwnerUserId', 'ParentId']]\n",
    "answers_df['ParentId'] = answers_df['ParentId'].astype(int)\n",
    "\n",
    "# Step 4: Extract the questions with their tags (where 'PostTypeId == 1')\n",
    "questions_df = posts_df[posts_df['PostTypeId'] == 1][['Id', 'Tags']]\n",
    "\n",
    "# Step 5: Ensure the question Ids are also of type int64\n",
    "questions_df['Id'] = questions_df['Id'].astype(int)"
   ]
  },
  {
   "cell_type": "code",
   "execution_count": 132,
   "metadata": {},
   "outputs": [
    {
     "name": "stdout",
     "output_type": "stream",
     "text": [
      "Top 3 users with the most answers:\n",
      "       OwnerUserId  AnswerCount\n",
      "3189        9113.0         2839\n",
      "19912     177980.0         2326\n",
      "557         1204.0         2043\n",
      "\n",
      "Top 3 most used tags:\n",
      "    TagName  Count\n",
      "259  design   5162\n",
      "114      c#   4931\n",
      "37     java   4929\n"
     ]
    }
   ],
   "source": [
    "answerers_table = answers_df.groupby('OwnerUserId').size().reset_index(name='AnswerCount')\n",
    "top_answerers = answerers_table.sort_values(by='AnswerCount', ascending=False).head(3)\n",
    "\n",
    "# Group tags to find the tags with the highest count\n",
    "top_tags = Tags[['TagName', 'Count']].sort_values(by='Count', ascending=False).head(3)\n",
    "\n",
    "\n",
    "# Print the results\n",
    "print(\"Top 3 users with the most answers:\")\n",
    "print(top_answerers)\n",
    "\n",
    "print(\"\\nTop 3 most used tags:\")\n",
    "print(top_tags)"
   ]
  },
  {
   "cell_type": "markdown",
   "metadata": {},
   "source": [
    "### Question 2:"
   ]
  },
  {
   "cell_type": "markdown",
   "metadata": {},
   "source": [
    "#### Step1 : First attach corresponding tags for answers by table join with questions table using Parent Id"
   ]
  },
  {
   "cell_type": "code",
   "execution_count": 133,
   "metadata": {},
   "outputs": [
    {
     "name": "stdout",
     "output_type": "stream",
     "text": [
      "Qualified Answerers: Float64Index([6.0, 11.0, 14.0, 15.0], dtype='float64', name='OwnerUserId')\n"
     ]
    }
   ],
   "source": [
    "# Step 3: Merge answers with the corresponding tags from the question (use ParentId to match question Id)\n",
    "merged_df = pd.merge(answers_df, questions_df, left_on='ParentId', right_on='Id', suffixes=('_answer', '_question'))\n",
    "\n",
    "# Step 4: Select relevant columns\n",
    "filtered_answers_df = merged_df[['Id_answer', 'OwnerUserId', 'Tags']]  # 'Tags' here are from the question\n",
    "answerer_counts = filtered_answers_df.groupby('OwnerUserId').size()\n",
    "qualified_answerers = answerer_counts[answerer_counts >= 20].index\n",
    "print(\"Qualified Answerers:\", qualified_answerers[1:5])\n"
   ]
  },
  {
   "cell_type": "markdown",
   "metadata": {},
   "source": [
    "&nbsp;\n",
    "#### Step2 : Filter the answers using the qualified answers ids"
   ]
  },
  {
   "cell_type": "code",
   "execution_count": 134,
   "metadata": {},
   "outputs": [
    {
     "name": "stdout",
     "output_type": "stream",
     "text": [
      "filtered answrers:    Id_answer  OwnerUserId                      Tags\n",
      "0          3         11.0  |comments|anti-patterns|\n",
      "2         13          4.0  |comments|anti-patterns|\n",
      "3         56         17.0  |comments|anti-patterns|\n",
      "6        482        148.0  |comments|anti-patterns|\n",
      "8       1680        552.0  |comments|anti-patterns|\n"
     ]
    }
   ],
   "source": [
    "\n",
    "filtered_answers = filtered_answers_df[filtered_answers_df['OwnerUserId'].isin(qualified_answerers)]\n",
    "print(\"filtered answrers:\" , filtered_answers.head() )"
   ]
  },
  {
   "cell_type": "markdown",
   "metadata": {},
   "source": [
    "&nbsp;\n",
    "#### Step3 :  Filter tags and expand the answers tables by expanding rows for each tag"
   ]
  },
  {
   "cell_type": "code",
   "execution_count": 135,
   "metadata": {},
   "outputs": [
    {
     "name": "stdout",
     "output_type": "stream",
     "text": [
      "Qualified Tags: 974\n"
     ]
    }
   ],
   "source": [
    "qualified_tags = Tags[Tags['Count'] >= 20]['Id']\n",
    "print(\"Qualified Tags:\", len(qualified_tags))\n",
    "\n",
    "tag_dict = Tags.set_index('TagName')['Id'].to_dict()\n",
    "\n",
    "tags_expanded = filtered_answers.copy()\n",
    "tags_expanded['Tags'] = tags_expanded['Tags'].str.split('|').apply(lambda x: x[1:-1])\n",
    "tags_expanded = tags_expanded.explode('Tags')\n",
    "tags_expanded['Tags'] = tags_expanded['Tags'].map(tag_dict)\n",
    "tags_expanded = tags_expanded[tags_expanded['Tags'].isin(qualified_tags)]"
   ]
  },
  {
   "cell_type": "markdown",
   "metadata": {},
   "source": [
    "&nbsp;\n",
    "#### Step4 : Create Utility matrix from the filtered answers table "
   ]
  },
  {
   "cell_type": "code",
   "execution_count": 136,
   "metadata": {},
   "outputs": [
    {
     "name": "stdout",
     "output_type": "stream",
     "text": [
      "Expert Matrix: Tags         1     3     4     7     8     9     11    12    13    14    ...  \\\n",
      "OwnerUserId                                                              ...   \n",
      "4.0          13.0   NaN   6.0   6.0  61.0  55.0   8.0   3.0   NaN   NaN  ...   \n",
      "6.0           NaN   NaN   8.0   NaN   6.0   4.0   1.0   2.0   NaN   NaN  ...   \n",
      "11.0          1.0   NaN   1.0   NaN   NaN   1.0   NaN   1.0   NaN   NaN  ...   \n",
      "14.0          NaN   NaN   1.0   NaN   1.0   1.0   NaN   1.0   NaN   NaN  ...   \n",
      "15.0          1.0   NaN   2.0   1.0   4.0   4.0   1.0   1.0   NaN   NaN  ...   \n",
      "...           ...   ...   ...   ...   ...   ...   ...   ...   ...   ...  ...   \n",
      "356695.0      NaN   NaN   NaN   NaN   NaN   1.0   NaN   NaN   NaN   NaN  ...   \n",
      "366014.0      NaN   NaN   NaN   NaN   NaN   NaN   1.0   NaN   NaN   NaN  ...   \n",
      "373864.0      NaN   NaN   NaN   NaN   NaN   NaN   NaN   NaN   NaN   NaN  ...   \n",
      "378329.0      1.0   NaN   NaN   NaN   NaN   NaN   NaN   NaN   NaN   NaN  ...   \n",
      "379622.0      NaN   NaN   NaN   NaN   NaN   NaN   NaN   NaN   NaN   NaN  ...   \n",
      "\n",
      "Tags         4639  4646  4661  4682  4683  4687  4690  4704  4720  4750  \n",
      "OwnerUserId                                                              \n",
      "4.0           NaN   NaN   NaN   2.0   1.0   1.0   NaN   NaN   1.0   NaN  \n",
      "6.0           NaN   NaN   NaN   NaN   NaN   NaN   NaN   NaN   NaN   NaN  \n",
      "11.0          NaN   NaN   NaN   NaN   NaN   NaN   NaN   NaN   NaN   NaN  \n",
      "14.0          NaN   NaN   NaN   NaN   NaN   NaN   NaN   NaN   NaN   NaN  \n",
      "15.0          NaN   NaN   NaN   NaN   NaN   NaN   NaN   NaN   NaN   NaN  \n",
      "...           ...   ...   ...   ...   ...   ...   ...   ...   ...   ...  \n",
      "356695.0      NaN   NaN   1.0   NaN   NaN   NaN   NaN   NaN   NaN   NaN  \n",
      "366014.0      NaN   NaN   NaN   NaN   NaN   NaN   NaN   NaN   NaN   NaN  \n",
      "373864.0      NaN   NaN   2.0   NaN   NaN   NaN   1.0   NaN   NaN   NaN  \n",
      "378329.0      NaN   NaN   1.0   NaN   NaN   NaN   NaN   NaN   5.0   1.0  \n",
      "379622.0      NaN   NaN   NaN   NaN   NaN   NaN   NaN   NaN   NaN   NaN  \n",
      "\n",
      "[1163 rows x 974 columns]\n",
      "Dimensions of the Expert matrix: (1163, 974)\n"
     ]
    }
   ],
   "source": [
    "expert_matrix = pd.pivot_table(\n",
    "    tags_expanded, \n",
    "    index='OwnerUserId', \n",
    "    columns='Tags', \n",
    "    aggfunc='size', \n",
    "    fill_value=np.nan\n",
    ")\n",
    "\n",
    "all_qualified_tags = pd.Series(qualified_tags, name='Tags')\n",
    "expert_matrix = expert_matrix.reindex(columns=all_qualified_tags, fill_value=0)\n",
    "print(\"Expert Matrix:\", expert_matrix)\n",
    "\n",
    "# dimensions = utility_matrix_sorted.shape\n",
    "print(\"Dimensions of the Expert matrix:\", expert_matrix.shape)"
   ]
  },
  {
   "cell_type": "markdown",
   "metadata": {},
   "source": [
    "&nbsp;\n",
    "#### Step5: convert to numpy matrix"
   ]
  },
  {
   "cell_type": "code",
   "execution_count": 137,
   "metadata": {},
   "outputs": [
    {
     "name": "stdout",
     "output_type": "stream",
     "text": [
      "[[13. nan  6. ... nan  1. nan]\n",
      " [nan nan  8. ... nan nan nan]\n",
      " [ 1. nan  1. ... nan nan nan]\n",
      " ...\n",
      " [nan nan nan ... nan nan nan]\n",
      " [ 1. nan nan ... nan  5.  1.]\n",
      " [nan nan nan ... nan nan nan]]\n"
     ]
    }
   ],
   "source": [
    "expert_matrix = expert_matrix.to_numpy()\n",
    "print(expert_matrix)"
   ]
  },
  {
   "cell_type": "markdown",
   "metadata": {},
   "source": [
    "### Question 3:"
   ]
  },
  {
   "cell_type": "markdown",
   "metadata": {},
   "source": [
    "#### Step1: Normalize the utility matrix "
   ]
  },
  {
   "cell_type": "code",
   "execution_count": 138,
   "metadata": {},
   "outputs": [],
   "source": [
    "import numpy as np\n",
    "\n",
    "# Create the utility_matrix with the same shape as expert_matrix\n",
    "utility_matrix = expert_matrix\n",
    "\n",
    "# Vectorized condition\n",
    "utility_matrix[expert_matrix > 15] = 5\n",
    "mask = ~np.isnan(expert_matrix) & (expert_matrix <= 15)\n",
    "utility_matrix[mask] = expert_matrix[expert_matrix <= 15] // 3"
   ]
  },
  {
   "cell_type": "code",
   "execution_count": 139,
   "metadata": {},
   "outputs": [
    {
     "name": "stdout",
     "output_type": "stream",
     "text": [
      "[[ 4. nan  2. ... nan  0. nan]\n",
      " [nan nan  2. ... nan nan nan]\n",
      " [ 0. nan  0. ... nan nan nan]\n",
      " ...\n",
      " [nan nan nan ... nan nan nan]\n",
      " [ 0. nan nan ... nan  1.  0.]\n",
      " [nan nan nan ... nan nan nan]]\n"
     ]
    }
   ],
   "source": [
    "print(utility_matrix)"
   ]
  },
  {
   "cell_type": "code",
   "execution_count": 140,
   "metadata": {},
   "outputs": [
    {
     "name": "stdout",
     "output_type": "stream",
     "text": [
      "Utility Matrix Metrics:\n",
      "Summation value of the utility matrix: nan\n",
      "Highest row sum of the utility matrix: nan\n",
      "Highest column sum of the utility matrix: nan\n"
     ]
    }
   ],
   "source": [
    "sum_utility_matrix = np.sum(utility_matrix)\n",
    "highest_row_sum = np.max(np.sum(utility_matrix, axis=1))\n",
    "highest_column_sum = np.max(np.sum(utility_matrix, axis=0))\n",
    "\n",
    "print(\"Utility Matrix Metrics:\")\n",
    "print(\"Summation value of the utility matrix:\", sum_utility_matrix)\n",
    "print(\"Highest row sum of the utility matrix:\", highest_row_sum)\n",
    "print(\"Highest column sum of the utility matrix:\", highest_column_sum)"
   ]
  },
  {
   "cell_type": "markdown",
   "metadata": {},
   "source": [
    "#### Step2: Create Test matrix"
   ]
  },
  {
   "cell_type": "code",
   "execution_count": 141,
   "metadata": {},
   "outputs": [
    {
     "name": "stdout",
     "output_type": "stream",
     "text": [
      "988 827\n",
      "Test Matrix Metrics:\n",
      "dimensions:  (175, 147)\n",
      "Summation value of the utility matrix: nan\n",
      "Highest row sum of the utility matrix: nan\n",
      "Highest column sum of the utility matrix: nan\n"
      "Summation value of the utility matrix: nan\n",
      "Highest row sum of the utility matrix: nan\n",
      "Highest column sum of the utility matrix: nan\n"
     ]
    }
   ],
   "source": [
    "num_users, num_tags = utility_matrix.shape\n",
    "user_cutoff = int(num_users * 0.85)\n",
    "tag_cutoff = int(num_tags * 0.85)\n",
    "\n",
    "print(user_cutoff,tag_cutoff)\n",
    "\n",
    "test_matrix = utility_matrix[user_cutoff:, tag_cutoff:]\n",
    "sum_test_matrix = np.sum(test_matrix)\n",
    "highest_row_sum = np.max(np.sum(test_matrix, axis=1))\n",
    "highest_column_sum = np.max(np.sum(test_matrix, axis=0))\n",
    "\n",
    "print(\"Test Matrix Metrics:\")\n",
    "print(\"dimensions: \",test_matrix.shape)\n",
    "print(\"Summation value of the utility matrix:\", sum_test_matrix)\n",
    "print(\"Highest row sum of the utility matrix:\", highest_row_sum)\n",
    "print(\"Highest column sum of the utility matrix:\", highest_column_sum)"
   ]
  },
  {
   "cell_type": "markdown",
   "metadata": {},
   "source": [
    "&nbsp;\n",
    "### Question 4:"
   ]
  },
  {
   "cell_type": "code",
   "execution_count": 48,
   "metadata": {},
   "outputs": [
    {
     "name": "stdout",
     "output_type": "stream",
     "text": [
      "[]\n"
     ]
    }
   ],
   "source": [
    "import numpy as np\n",
    "import pandas as pd\n",
    "\n",
    "# Sample user-item matrix\n",
    "# Rows are users, columns are items, and values are ratings\n",
    "# data = {\n",
    "#     'item1': [5, 4, 3, np.nan, 1],\n",
    "#     'item2': [3, np.nan, 4, 2, 2],\n",
    "#     'item3': [4, 5, 2, 1, np.nan],\n",
    "#     'item4': [np.nan, 3, 5, 4, 4],\n",
    "# }\n",
    "\n",
    "data = utility_matrix[:user_cutoff]\n",
    "\n",
    "# Convert to DataFrame\n",
    "df = pd.DataFrame(data)\n",
    "\n",
    "# Center the data by subtracting the mean of each item (column)\n",
    "# Subtract column means from each value\n",
    "df_centered = df.sub(df.mean(axis=0), axis=1)\n",
    "\n",
    "# Pearson correlation matrix: compute pairwise correlation between items\n",
    "similarity_matrix = df_centered.corr(method='pearson')\n",
    "\n",
    "# Display the similarity matrix\n",
    "item = tag_cutoff + 10\n",
    "k = 2\n",
    "arr = similarity_matrix[item]\n",
    "\n",
    "# Step 2: Remove NaN values from the filtered array\n",
    "valid_indices = np.where(~np.isnan(arr))[0]\n",
    "valid_values = arr[valid_indices]\n",
    "print(valid_indices)\n",
    "\n",
    "# top_k_valid_indices = np.argpartition(valid_values, -k)[-k:]\n",
    "\n",
    "# print(top_k_valid_indices)\n",
    "# print(arr[top_k_valid_indices])\n",
    "# print(arr)"
   ]
  },
  {
   "cell_type": "markdown",
   "metadata": {},
   "source": [
    "&nbsp;\n",
    "### Question 5:"
   ]
  },
  {
   "cell_type": "code",
   "execution_count": 148,
   "metadata": {},
   "outputs": [
    {
     "name": "stdout",
     "output_type": "stream",
     "text": [
      "Epoch 1/10: Loss = 0.5463997946258953\n",
      "Epoch 2/10: Loss = 0.5148792797203559\n",
      "Epoch 3/10: Loss = 0.4939103776568684\n",
      "Epoch 4/10: Loss = 0.47837711939775157\n",
      "Epoch 5/10: Loss = 0.46600649373024633\n",
      "Epoch 6/10: Loss = 0.4556429876823688\n",
      "Epoch 7/10: Loss = 0.4466380252577397\n",
      "Epoch 8/10: Loss = 0.4386007465366985\n",
      "Epoch 9/10: Loss = 0.431283424729414\n",
      "Epoch 10/10: Loss = 0.42452336854071204\n",
      "Latent Factors: 2\n",
      "RMSE with regularization (lambda1=0, lambda2=0): 0.6515545783284087\n",
      "Epoch 1/10: Loss = 0.5532730994346897\n",
      "Epoch 2/10: Loss = 0.5186050099551088\n",
      "Epoch 3/10: Loss = 0.4955022075030726\n",
      "Epoch 4/10: Loss = 0.47859579257286516\n",
      "Epoch 5/10: Loss = 0.4653464990499921\n",
      "Epoch 6/10: Loss = 0.45441757374917185\n",
      "Epoch 7/10: Loss = 0.4450472859718321\n",
      "Epoch 8/10: Loss = 0.4367751197835074\n",
      "Epoch 9/10: Loss = 0.42931005232484576\n",
      "Epoch 10/10: Loss = 0.4224619773453345\n",
      "Latent Factors: 2\n",
      "RMSE with regularization (lambda1=0.001, lambda2=0.003): 0.6499593404895925\n",
      "Epoch 1/10: Loss = 0.5441469194475976\n",
      "Epoch 2/10: Loss = 0.5122526812697937\n",
      "Epoch 3/10: Loss = 0.4914342237642736\n",
      "Epoch 4/10: Loss = 0.4764031978558048\n",
      "Epoch 5/10: Loss = 0.4647357901918486\n",
      "Epoch 6/10: Loss = 0.45517914692949857\n",
      "Epoch 7/10: Loss = 0.4470258616199593\n",
      "Epoch 8/10: Loss = 0.4398495131301841\n",
      "Epoch 9/10: Loss = 0.43338029153468355\n",
      "Epoch 10/10: Loss = 0.4274412793286734\n",
      "Latent Factors: 2\n",
      "RMSE with regularization (lambda1=0.05, lambda2=0.05): 0.6535034021816062\n",
      "Epoch 1/10: Loss = 0.525799368460807\n",
      "Epoch 2/10: Loss = 0.5074844788622612\n",
      "Epoch 3/10: Loss = 0.5011188146233163\n",
      "Epoch 4/10: Loss = 0.49908672619789796\n",
      "Epoch 5/10: Loss = 0.49898896297167455\n",
      "Epoch 6/10: Loss = 0.4998331045748981\n",
      "Epoch 7/10: Loss = 0.5011425838828103\n",
      "Epoch 8/10: Loss = 0.5026685577139957\n",
      "Epoch 9/10: Loss = 0.5042748746463871\n",
      "Epoch 10/10: Loss = 0.5058853785021067\n",
      "Latent Factors: 2\n",
      "RMSE with regularization (lambda1=0.5, lambda2=0.75): 0.7095532215874455\n",
      "Epoch 1/10: Loss = 1.0277586025761831\n",
      "Epoch 2/10: Loss = 0.8153424788592297\n",
      "Epoch 3/10: Loss = 0.7128795080118182\n",
      "Epoch 4/10: Loss = 0.6528957094200024\n",
      "Epoch 5/10: Loss = 0.6134364897451602\n",
      "Epoch 6/10: Loss = 0.5853414835160946\n",
      "Epoch 7/10: Loss = 0.5641400862708377\n",
      "Epoch 8/10: Loss = 0.5474013791642512\n",
      "Epoch 9/10: Loss = 0.5336947387738996\n",
      "Epoch 10/10: Loss = 0.522125867414516\n",
      "Latent Factors: 5\n",
      "RMSE with regularization (lambda1=0, lambda2=0): 0.7225827754759396\n",
      "Epoch 1/10: Loss = 1.002769639904236\n",
      "Epoch 2/10: Loss = 0.8031296558172405\n",
      "Epoch 3/10: Loss = 0.7055333445340569\n",
      "Epoch 4/10: Loss = 0.6476724253879039\n",
      "Epoch 5/10: Loss = 0.6092607956585373\n",
      "Epoch 6/10: Loss = 0.5817349134800828\n",
      "Epoch 7/10: Loss = 0.5608641790186797\n",
      "Epoch 8/10: Loss = 0.5443245101330906\n",
      "Epoch 9/10: Loss = 0.5307370336923191\n",
      "Epoch 10/10: Loss = 0.5192343339028324\n",
      "Latent Factors: 5\n",
      "RMSE with regularization (lambda1=0.001, lambda2=0.003): 0.7205581599386395\n",
      "Epoch 1/10: Loss = 0.9805138757676892\n",
      "Epoch 2/10: Loss = 0.7815726753290663\n",
      "Epoch 3/10: Loss = 0.6856001697101254\n",
      "Epoch 4/10: Loss = 0.6294372662568374\n",
      "Epoch 5/10: Loss = 0.5925975008847347\n",
      "Epoch 6/10: Loss = 0.566493428570468\n",
      "Epoch 7/10: Loss = 0.5469149458342399\n",
      "Epoch 8/10: Loss = 0.5315651355092013\n",
      "Epoch 9/10: Loss = 0.5190892748823944\n",
      "Epoch 10/10: Loss = 0.5086394667288541\n",
      "Latent Factors: 5\n",
      "RMSE with regularization (lambda1=0.05, lambda2=0.05): 0.7126524856602221\n",
      "Epoch 1/10: Loss = 0.8401526012596773\n",
      "Epoch 2/10: Loss = 0.6657594556921251\n",
      "Epoch 3/10: Loss = 0.5962516654626786\n",
      "Epoch 4/10: Loss = 0.5616187785052774\n",
      "Epoch 5/10: Loss = 0.5423741051982673\n",
      "Epoch 6/10: Loss = 0.531002027155677\n",
      "Epoch 7/10: Loss = 0.5240491847255088\n",
      "Epoch 8/10: Loss = 0.5197408071380436\n",
      "Epoch 9/10: Loss = 0.5170897279790581\n",
      "Epoch 10/10: Loss = 0.5155133275041813\n",
      "Latent Factors: 5\n",
      "RMSE with regularization (lambda1=0.5, lambda2=0.75): 0.7141994355535216\n",
      "Epoch 1/10: Loss = 1.9186018117867019\n",
      "Epoch 2/10: Loss = 1.2820706862219893\n",
      "Epoch 3/10: Loss = 1.023726998911979\n",
      "Epoch 4/10: Loss = 0.8849891255992647\n",
      "Epoch 5/10: Loss = 0.7987704675659142\n",
      "Epoch 6/10: Loss = 0.7400276340613842\n",
      "Epoch 7/10: Loss = 0.6973436993410309\n",
      "Epoch 8/10: Loss = 0.6647920352046355\n",
      "Epoch 9/10: Loss = 0.6389973986701605\n",
      "Epoch 10/10: Loss = 0.6178974956848895\n",
      "Latent Factors: 10\n",
      "RMSE with regularization (lambda1=0, lambda2=0): 0.7860645620334813\n",
      "Epoch 1/10: Loss = 1.9153814904405506\n",
      "Epoch 2/10: Loss = 1.2765761092615826\n",
      "Epoch 3/10: Loss = 1.0198604020798845\n",
      "Epoch 4/10: Loss = 0.8826042932458822\n",
      "Epoch 5/10: Loss = 0.7975236067914179\n",
      "Epoch 6/10: Loss = 0.739670699792376\n",
      "Epoch 7/10: Loss = 0.6977195782662355\n",
      "Epoch 8/10: Loss = 0.66580809918837\n",
      "Epoch 9/10: Loss = 0.6406060162700216\n",
      "Epoch 10/10: Loss = 0.6200836569015442\n",
      "Latent Factors: 10\n",
      "RMSE with regularization (lambda1=0.001, lambda2=0.003): 0.7874208351977338\n",
      "Epoch 1/10: Loss = 1.8782337493718475\n",
      "Epoch 2/10: Loss = 1.2468379154004703\n",
      "Epoch 3/10: Loss = 0.9939463323201091\n",
      "Epoch 4/10: Loss = 0.8588625525172767\n",
      "Epoch 5/10: Loss = 0.7752208912654028\n",
      "Epoch 6/10: Loss = 0.7184515752717985\n",
      "Epoch 7/10: Loss = 0.6773984718202799\n",
      "Epoch 8/10: Loss = 0.6462808371670492\n",
      "Epoch 9/10: Loss = 0.6218091532534065\n",
      "Epoch 10/10: Loss = 0.6019748461533088\n",
      "Latent Factors: 10\n",
      "RMSE with regularization (lambda1=0.05, lambda2=0.05): 0.7749854485110861\n",
      "Epoch 1/10: Loss = 1.552527878638985\n",
      "Epoch 2/10: Loss = 0.9971121333028016\n",
      "Epoch 3/10: Loss = 0.7933688544731899\n",
      "Epoch 4/10: Loss = 0.6935252906590468\n",
      "Epoch 5/10: Loss = 0.6369833992325878\n",
      "Epoch 6/10: Loss = 0.6020296097079783\n",
      "Epoch 7/10: Loss = 0.5791191155173286\n",
      "Epoch 8/10: Loss = 0.5634697048581412\n",
      "Epoch 9/10: Loss = 0.5524545126791749\n",
      "Epoch 10/10: Loss = 0.5445282892253543\n",
      "Latent Factors: 10\n",
      "RMSE with regularization (lambda1=0.5, lambda2=0.75): 0.7313123771951331\n"
     ]
    }
   ],
   "source": [
    "import numpy as np\n",
    "from sklearn.metrics import mean_squared_error\n",
    "\n",
    "class MatrixFactorizationSGD:\n",
    "    def __init__(self, R, K, alpha=0.0005, epochs=10, lambda1=0, lambda2=0):\n",
    "        \"\"\"\n",
    "        Initialize the matrix factorization model with two regularization parameters.\n",
    "        \n",
    "        Parameters:\n",
    "        R : np.array (users x items) -> Utility matrix with values NaN, 0, 1, 2, 3, 4, 5\n",
    "        K : int -> Number of latent factors\n",
    "        alpha : float -> Learning rate\n",
    "        epochs : int -> Number of full passes through the data\n",
    "        lambda1 : float -> Regularization parameter for user-feature matrix P\n",
    "        lambda2 : float -> Regularization parameter for item-feature matrix Q\n",
    "        \"\"\"\n",
    "        self.R = R\n",
    "        self.num_users, self.num_items = R.shape\n",
    "        self.K = K  # Number of latent factors\n",
    "        self.alpha = alpha  # Learning rate\n",
    "        self.epochs = epochs  # Number of full passes (epochs)\n",
    "        self.lambda1 = lambda1  # Regularization parameter for P\n",
    "        self.lambda2 = lambda2  # Regularization parameter for Q\n",
    "        self.P = np.random.rand(self.num_users, K)  # User-feature matrix\n",
    "        self.Q = np.random.rand(self.num_items, K)  # Item-feature matrix\n",
    "\n",
    "    def train(self):\n",
    "        \"\"\"\n",
    "        Train the matrix factorization model using stochastic gradient descent (SGD) over multiple epochs.\n",
    "        \"\"\"\n",
    "        for epoch in range(self.epochs):\n",
    "            for i in range(self.num_users):\n",
    "                for j in range(self.num_items):\n",
    "                    if not np.isnan(self.R[i][j]):  # Skip NaN values\n",
    "                        # Compute the prediction error\n",
    "                        eij = self.R[i][j] - np.dot(self.P[i, :], self.Q[j, :])\n",
    "\n",
    "                        # Update P and Q matrices with regularization terms lambda1 and lambda2\n",
    "                        for k in range(self.K):\n",
    "                            self.P[i][k] += self.alpha * (2 * eij * self.Q[j][k] - 2 * self.lambda1 * self.P[i][k])\n",
    "                            self.Q[j][k] += self.alpha * (2 * eij * self.P[i][k] - 2 * self.lambda2 * self.Q[j][k])\n",
    "            \n",
    "            # Compute and print the loss at the end of each epoch\n",
    "            loss = self.compute_loss()\n",
    "            print(f\"Epoch {epoch + 1}/{self.epochs}: Loss = {loss}\")\n",
    "        \n",
    "        return self.P, self.Q\n",
    "\n",
    "    def compute_loss(self):\n",
    "        \"\"\"\n",
    "        Compute the cost function (loss) with two regularization parameters.\n",
    "        The loss includes the squared error and regularization terms.\n",
    "        \"\"\"\n",
    "        predicted_R = np.dot(self.P, self.Q.T)\n",
    "        loss = 0\n",
    "        num_non_nan_entries = 0\n",
    "\n",
    "        for i in range(self.num_users):\n",
    "            for j in range(self.num_items):\n",
    "                if not np.isnan(self.R[i][j]):  # Only consider non-NaN values\n",
    "                    error = self.R[i][j] - predicted_R[i][j]\n",
    "                    loss += error ** 2\n",
    "                    num_non_nan_entries += 1\n",
    "        \n",
    "        # Adding regularization terms for P and Q matrices\n",
    "        loss += self.lambda1 * np.sum(self.P ** 2)  # Regularization for P\n",
    "        loss += self.lambda2 * np.sum(self.Q ** 2)  # Regularization for Q\n",
    "\n",
    "        # Normalize the loss by the number of non-NaN entries\n",
    "        loss /= num_non_nan_entries\n",
    "\n",
    "        return loss\n",
    "\n",
    "\n",
    "    def predict(self):\n",
    "        \"\"\"\n",
    "        Predict the rating matrix after training.\n",
    "        \"\"\"\n",
    "        return np.dot(self.P, self.Q.T)\n",
    "\n",
    "    def rmse(self, predicted_R):\n",
    "        \"\"\"\n",
    "        Compute the Root Mean Square Error (RMSE) between the predicted and actual ratings.\n",
    "        \"\"\"\n",
    "        actual_ratings = self.R[~np.isnan(self.R)]\n",
    "        predicted_ratings = predicted_R[~np.isnan(self.R)]\n",
    "        return np.sqrt(mean_squared_error(actual_ratings, predicted_ratings))\n",
    "\n",
    "# Test the updated modular code with a sample utility matrix\n",
    "def run_tests():\n",
    "    # Sample utility matrix (NaN represents missing ratings)\n",
    "    R = utility_matrix\n",
    "\n",
    "    # Parameters\n",
    "    latent_factors = [2, 5, 10]\n",
    "    alpha = 0.0005\n",
    "    epochs = 10\n",
    "    lambda1List = [0, 0.001, 0.05, 0.5]  # Regularization parameter for P\n",
    "    lambda2List = [0, 0.003, 0.05, 0.75]  # Regularization parameter for Q\n",
    "\n",
    "    for K in latent_factors:\n",
    "        for lambda1, lambda2 in zip(lambda1List, lambda2List):\n",
    "            mf_reg = MatrixFactorizationSGD(R, K, alpha, epochs, lambda1=lambda1, lambda2=lambda2)\n",
    "            P_reg, Q_reg = mf_reg.train()\n",
    "            predicted_R_reg = mf_reg.predict()\n",
    "            rmse_reg = mf_reg.rmse(predicted_R_reg)\n",
    "\n",
    "            print(f\"Latent Factors: {K}\")\n",
    "            print(f\"RMSE with regularization (lambda1={lambda1}, lambda2={lambda2}): {rmse_reg}\")\n",
    "\n",
    "# Run the tests\n",
    "run_tests()\n"
   ]
  }
 ],
 "metadata": {
  "kernelspec": {
   "display_name": "Python 3",
   "language": "python",
   "name": "python3"
  },
  "language_info": {
   "codemirror_mode": {
    "name": "ipython",
    "version": 3
   },
   "file_extension": ".py",
   "mimetype": "text/x-python",
   "name": "python",
   "nbconvert_exporter": "python",
   "pygments_lexer": "ipython3",
   "version": "3.10.12"
  }
 },
 "nbformat": 4,
 "nbformat_minor": 2
}
