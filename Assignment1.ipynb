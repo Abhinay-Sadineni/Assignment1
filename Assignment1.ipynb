{
 "cells": [
  {
   "cell_type": "markdown",
   "metadata": {},
   "source": [
    "## Assignment1: Recommendation Systems"
   ]
  },
  {
   "cell_type": "markdown",
   "metadata": {},
   "source": [
    "#### Question 1 :"
   ]
  },
  {
   "cell_type": "code",
   "execution_count": 1,
   "metadata": {},
   "outputs": [],
   "source": [
    "import pandas as pd\n",
    "import numpy as np\n",
    "\n",
    "# Replace 'file_path.csv' with the actual path to your CSV file\n",
    "posts_df = pd.read_csv('./csv/Posts.csv')\n",
    "Tags = pd.read_csv('./csv/Tags.csv')\n",
    "\n",
    "answers_df = posts_df[posts_df['PostTypeId'] == 2][['Id', 'OwnerUserId', 'ParentId']]\n",
    "answers_df['ParentId'] = answers_df['ParentId'].astype(int)\n",
    "\n",
    "# Step 4: Extract the questions with their tags (where 'PostTypeId == 1')\n",
    "questions_df = posts_df[posts_df['PostTypeId'] == 1][['Id', 'Tags']]\n",
    "\n",
    "# Step 5: Ensure the question Ids are also of type int64\n",
    "questions_df['Id'] = questions_df['Id'].astype(int)"
   ]
  },
  {
   "cell_type": "code",
   "execution_count": 2,
   "metadata": {},
   "outputs": [
    {
     "name": "stdout",
     "output_type": "stream",
     "text": [
      "Top 3 users with the most answers:\n",
      "       OwnerUserId  AnswerCount\n",
      "3189        9113.0         2839\n",
      "19912     177980.0         2326\n",
      "557         1204.0         2043\n",
      "\n",
      "Top 3 most used tags:\n",
      "    TagName  Count\n",
      "259  design   5162\n",
      "114      c#   4931\n",
      "37     java   4929\n"
     ]
    }
   ],
   "source": [
    "answerers_table = answers_df.groupby('OwnerUserId').size().reset_index(name='AnswerCount')\n",
    "top_answerers = answerers_table.sort_values(by='AnswerCount', ascending=False).head(3)\n",
    "\n",
    "# Group tags to find the tags with the highest count\n",
    "top_tags = Tags[['TagName', 'Count']].sort_values(by='Count', ascending=False).head(3)\n",
    "\n",
    "\n",
    "# Print the results\n",
    "print(\"Top 3 users with the most answers:\")\n",
    "print(top_answerers)\n",
    "\n",
    "print(\"\\nTop 3 most used tags:\")\n",
    "print(top_tags)"
   ]
  },
  {
   "cell_type": "markdown",
   "metadata": {},
   "source": [
    "### Question 2:"
   ]
  },
  {
   "cell_type": "markdown",
   "metadata": {},
   "source": [
    "#### Step1 : First attach corresponding tags for answers by table join with questions table using Parent Id"
   ]
  },
  {
   "cell_type": "code",
   "execution_count": 3,
   "metadata": {},
   "outputs": [
    {
     "name": "stdout",
     "output_type": "stream",
     "text": [
      "Qualified Answerers: Float64Index([6.0, 11.0, 14.0, 15.0], dtype='float64', name='OwnerUserId')\n"
     ]
    }
   ],
   "source": [
    "# Step 3: Merge answers with the corresponding tags from the question (use ParentId to match question Id)\n",
    "merged_df = pd.merge(answers_df, questions_df, left_on='ParentId', right_on='Id', suffixes=('_answer', '_question'))\n",
    "\n",
    "# Step 4: Select relevant columns\n",
    "filtered_answers_df = merged_df[['Id_answer', 'OwnerUserId', 'Tags']]  # 'Tags' here are from the question\n",
    "answerer_counts = filtered_answers_df.groupby('OwnerUserId').size()\n",
    "qualified_answerers = answerer_counts[answerer_counts >= 20].index\n",
    "print(\"Qualified Answerers:\", qualified_answerers[1:5])\n"
   ]
  },
  {
   "cell_type": "markdown",
   "metadata": {},
   "source": [
    "&nbsp;\n",
    "#### Step2 : Filter the answers using the qualified answers ids"
   ]
  },
  {
   "cell_type": "code",
   "execution_count": 4,
   "metadata": {},
   "outputs": [
    {
     "name": "stdout",
     "output_type": "stream",
     "text": [
      "filtered answrers:    Id_answer  OwnerUserId                      Tags\n",
      "0          3         11.0  |comments|anti-patterns|\n",
      "2         13          4.0  |comments|anti-patterns|\n",
      "3         56         17.0  |comments|anti-patterns|\n",
      "6        482        148.0  |comments|anti-patterns|\n",
      "8       1680        552.0  |comments|anti-patterns|\n"
     ]
    }
   ],
   "source": [
    "\n",
    "filtered_answers = filtered_answers_df[filtered_answers_df['OwnerUserId'].isin(qualified_answerers)]\n",
    "print(\"filtered answrers:\" , filtered_answers.head() )"
   ]
  },
  {
   "cell_type": "markdown",
   "metadata": {},
   "source": [
    "&nbsp;\n",
    "#### Step3 :  Filter tags and expand the answers tables by expanding rows for each tag"
   ]
  },
  {
   "cell_type": "code",
   "execution_count": 5,
   "metadata": {},
   "outputs": [
    {
     "name": "stdout",
     "output_type": "stream",
     "text": [
      "Qualified Tags: 974\n"
     ]
    }
   ],
   "source": [
    "qualified_tags = Tags[Tags['Count'] >= 20]['Id']\n",
    "print(\"Qualified Tags:\", len(qualified_tags))\n",
    "\n",
    "tag_dict = Tags.set_index('TagName')['Id'].to_dict()\n",
    "\n",
    "tags_expanded = filtered_answers.copy()\n",
    "tags_expanded['Tags'] = tags_expanded['Tags'].str.split('|').apply(lambda x: x[1:-1])\n",
    "tags_expanded = tags_expanded.explode('Tags')\n",
    "tags_expanded['Tags'] = tags_expanded['Tags'].map(tag_dict)\n",
    "tags_expanded = tags_expanded[tags_expanded['Tags'].isin(qualified_tags)]"
   ]
  },
  {
   "cell_type": "markdown",
   "metadata": {},
   "source": [
    "&nbsp;\n",
    "#### Step4 : Create Utility matrix from the filtered answers table "
   ]
  },
  {
   "cell_type": "code",
   "execution_count": 6,
   "metadata": {},
   "outputs": [
    {
     "name": "stdout",
     "output_type": "stream",
     "text": [
      "Expert Matrix: Tags         1     3     4     7     8     9     11    12    13    14    ...  \\\n",
      "OwnerUserId                                                              ...   \n",
      "4.0          13.0   NaN   6.0   6.0  61.0  55.0   8.0   3.0   NaN   NaN  ...   \n",
      "6.0           NaN   NaN   8.0   NaN   6.0   4.0   1.0   2.0   NaN   NaN  ...   \n",
      "11.0          1.0   NaN   1.0   NaN   NaN   1.0   NaN   1.0   NaN   NaN  ...   \n",
      "14.0          NaN   NaN   1.0   NaN   1.0   1.0   NaN   1.0   NaN   NaN  ...   \n",
      "15.0          1.0   NaN   2.0   1.0   4.0   4.0   1.0   1.0   NaN   NaN  ...   \n",
      "...           ...   ...   ...   ...   ...   ...   ...   ...   ...   ...  ...   \n",
      "356695.0      NaN   NaN   NaN   NaN   NaN   1.0   NaN   NaN   NaN   NaN  ...   \n",
      "366014.0      NaN   NaN   NaN   NaN   NaN   NaN   1.0   NaN   NaN   NaN  ...   \n",
      "373864.0      NaN   NaN   NaN   NaN   NaN   NaN   NaN   NaN   NaN   NaN  ...   \n",
      "378329.0      1.0   NaN   NaN   NaN   NaN   NaN   NaN   NaN   NaN   NaN  ...   \n",
      "379622.0      NaN   NaN   NaN   NaN   NaN   NaN   NaN   NaN   NaN   NaN  ...   \n",
      "\n",
      "Tags         4639  4646  4661  4682  4683  4687  4690  4704  4720  4750  \n",
      "OwnerUserId                                                              \n",
      "4.0           NaN   NaN   NaN   2.0   1.0   1.0   NaN   NaN   1.0   NaN  \n",
      "6.0           NaN   NaN   NaN   NaN   NaN   NaN   NaN   NaN   NaN   NaN  \n",
      "11.0          NaN   NaN   NaN   NaN   NaN   NaN   NaN   NaN   NaN   NaN  \n",
      "14.0          NaN   NaN   NaN   NaN   NaN   NaN   NaN   NaN   NaN   NaN  \n",
      "15.0          NaN   NaN   NaN   NaN   NaN   NaN   NaN   NaN   NaN   NaN  \n",
      "...           ...   ...   ...   ...   ...   ...   ...   ...   ...   ...  \n",
      "356695.0      NaN   NaN   1.0   NaN   NaN   NaN   NaN   NaN   NaN   NaN  \n",
      "366014.0      NaN   NaN   NaN   NaN   NaN   NaN   NaN   NaN   NaN   NaN  \n",
      "373864.0      NaN   NaN   2.0   NaN   NaN   NaN   1.0   NaN   NaN   NaN  \n",
      "378329.0      NaN   NaN   1.0   NaN   NaN   NaN   NaN   NaN   5.0   1.0  \n",
      "379622.0      NaN   NaN   NaN   NaN   NaN   NaN   NaN   NaN   NaN   NaN  \n",
      "\n",
      "[1163 rows x 974 columns]\n",
      "Dimensions of the Expert matrix: (1163, 974)\n"
     ]
    }
   ],
   "source": [
    "expert_matrix = pd.pivot_table(\n",
    "    tags_expanded, \n",
    "    index='OwnerUserId', \n",
    "    columns='Tags', \n",
    "    aggfunc='size', \n",
    "    fill_value=np.nan\n",
    ")\n",
    "\n",
    "all_qualified_tags = pd.Series(qualified_tags, name='Tags')\n",
    "expert_matrix = expert_matrix.reindex(columns=all_qualified_tags, fill_value=0)\n",
    "print(\"Expert Matrix:\", expert_matrix)\n",
    "\n",
    "# dimensions = utility_matrix_sorted.shape\n",
    "print(\"Dimensions of the Expert matrix:\", expert_matrix.shape)"
   ]
  },
  {
   "cell_type": "markdown",
   "metadata": {},
   "source": [
    "&nbsp;\n",
    "#### Step5: convert to numpy matrix"
   ]
  },
  {
   "cell_type": "code",
   "execution_count": 7,
   "metadata": {},
   "outputs": [
    {
     "name": "stdout",
     "output_type": "stream",
     "text": [
      "[[13. nan  6. ... nan  1. nan]\n",
      " [nan nan  8. ... nan nan nan]\n",
      " [ 1. nan  1. ... nan nan nan]\n",
      " ...\n",
      " [nan nan nan ... nan nan nan]\n",
      " [ 1. nan nan ... nan  5.  1.]\n",
      " [nan nan nan ... nan nan nan]]\n"
     ]
    }
   ],
   "source": [
    "expert_matrix = expert_matrix.to_numpy()\n",
    "print(expert_matrix)"
   ]
  },
  {
   "cell_type": "markdown",
   "metadata": {},
   "source": [
    "### Question 3:"
   ]
  },
  {
   "cell_type": "markdown",
   "metadata": {},
   "source": [
    "#### Step1: Normalize the utility matrix "
   ]
  },
  {
   "cell_type": "code",
   "execution_count": 8,
   "metadata": {},
   "outputs": [],
   "source": [
    "import numpy as np\n",
    "\n",
    "# Create the utility_matrix with the same shape as expert_matrix\n",
    "utility_matrix = expert_matrix\n",
    "\n",
    "# Vectorized condition\n",
    "utility_matrix[expert_matrix > 15] = 5\n",
    "mask = ~np.isnan(expert_matrix) & (expert_matrix <= 15)\n",
    "utility_matrix[mask] = expert_matrix[expert_matrix <= 15] // 3"
   ]
  },
  {
   "cell_type": "code",
   "execution_count": 9,
   "metadata": {},
   "outputs": [
    {
     "name": "stdout",
     "output_type": "stream",
     "text": [
      "[[ 4. nan  2. ... nan  0. nan]\n",
      " [nan nan  2. ... nan nan nan]\n",
      " [ 0. nan  0. ... nan nan nan]\n",
      " ...\n",
      " [nan nan nan ... nan nan nan]\n",
      " [ 0. nan nan ... nan  1.  0.]\n",
      " [nan nan nan ... nan nan nan]]\n"
     ]
    }
   ],
   "source": [
    "print(utility_matrix)"
   ]
  },
  {
   "cell_type": "code",
   "execution_count": 10,
   "metadata": {},
   "outputs": [
    {
     "name": "stdout",
     "output_type": "stream",
     "text": [
      "Utility Matrix Metrics:\n",
      "Summation value of the utility matrix: nan\n",
      "Highest row sum of the utility matrix: nan\n",
      "Highest column sum of the utility matrix: nan\n"
     ]
    }
   ],
   "source": [
    "sum_utility_matrix = np.sum(utility_matrix)\n",
    "highest_row_sum = np.max(np.sum(utility_matrix, axis=1))\n",
    "highest_column_sum = np.max(np.sum(utility_matrix, axis=0))\n",
    "\n",
    "print(\"Utility Matrix Metrics:\")\n",
    "print(\"Summation value of the utility matrix:\", sum_utility_matrix)\n",
    "print(\"Highest row sum of the utility matrix:\", highest_row_sum)\n",
    "print(\"Highest column sum of the utility matrix:\", highest_column_sum)"
   ]
  },
  {
   "cell_type": "markdown",
   "metadata": {},
   "source": [
    "#### Step2: Create Test matrix"
   ]
  },
  {
   "cell_type": "code",
   "execution_count": 11,
   "metadata": {},
   "outputs": [
    {
     "name": "stdout",
     "output_type": "stream",
     "text": [
      "988 827\n",
      "Test Matrix Metrics:\n",
      "dimensions:  (175, 147)\n",
      "Summation value of the utility matrix: nan\n",
      "Highest row sum of the utility matrix: nan\n",
      "Highest column sum of the utility matrix: nan\n"
     ]
    }
   ],
   "source": [
    "num_users, num_tags = utility_matrix.shape\n",
    "user_cutoff = int(num_users * 0.85)\n",
    "tag_cutoff = int(num_tags * 0.85)\n",
    "\n",
    "print(user_cutoff,tag_cutoff)\n",
    "\n",
    "test_matrix = utility_matrix[user_cutoff:, tag_cutoff:]\n",
    "sum_test_matrix = np.sum(test_matrix)\n",
    "highest_row_sum = np.max(np.sum(test_matrix, axis=1))\n",
    "highest_column_sum = np.max(np.sum(test_matrix, axis=0))\n",
    "\n",
    "print(\"Test Matrix Metrics:\")\n",
    "print(\"dimensions: \",test_matrix.shape)\n",
    "print(\"Summation value of the utility matrix:\", sum_test_matrix)\n",
    "print(\"Highest row sum of the utility matrix:\", highest_row_sum)\n",
    "print(\"Highest column sum of the utility matrix:\", highest_column_sum)"
   ]
  },
  {
   "cell_type": "markdown",
   "metadata": {},
   "source": [
    "&nbsp;\n",
    "### Question 4:"
   ]
  },
  {
   "cell_type": "code",
   "execution_count": 12,
   "metadata": {},
   "outputs": [],
   "source": [
    "import numpy as np\n",
    "import pandas as pd\n",
    "\n",
    "# Sample user-item matrix\n",
    "# Rows are users, columns are items, and values are ratings\n",
    "# data = {\n",
    "#     'item1': [5, 4, 3, np.nan, 1],\n",
    "#     'item2': [3, np.nan, 4, 2, 2],\n",
    "#     'item3': [4, 5, 2, 1, np.nan],\n",
    "#     'item4': [np.nan, 3, 5, 4, 4],\n",
    "# }\n",
    "\n",
    "data = utility_matrix[:user_cutoff]\n",
    "\n",
    "# Convert to DataFrame\n",
    "df = pd.DataFrame(data)\n",
    "\n",
    "# Center the data by subtracting the mean of each item (column)\n",
    "# Subtract column means from each value\n",
    "df_centered = df.sub(df.mean(axis=1), axis=0)\n",
    "\n",
    "# Pearson correlation matrix: compute pairwise correlation between items\n",
    "similarity_matrix = df_centered.corr(method='pearson')\n"
   ]
  },
  {
   "cell_type": "code",
   "execution_count": 13,
   "metadata": {},
   "outputs": [
    {
     "name": "stdout",
     "output_type": "stream",
     "text": [
      "0.6698442804180549 2265 25725\n"
     ]
    }
   ],
   "source": [
    "def predict_rating(user_id, item_id, ratings, similarity_matrix, N):\n",
    "    \n",
    "    # Get the similarity scores for the target item with all other items\n",
    "    item_similarities = np.array(similarity_matrix[item_id][:tag_cutoff])\n",
    "\n",
    "    # non_nan_indices = np.where(~np.isnan(item_similarities))[0]\n",
    "\n",
    "    \n",
    "    # Get the ratings of user_id for all items\n",
    "    user_ratings = np.array(ratings[user_id])\n",
    "    \n",
    "    # Sort the similarities and take the top N most similar items (excluding the target item itself)\n",
    "    similar_items = np.argsort(item_similarities)[::-1]  # Sort indices by similarity in descending order\n",
    "\n",
    "    start = 0\n",
    "    while start < len(similar_items):\n",
    "        if np.isnan(item_similarities[similar_items[start]]): start += 1\n",
    "        else : break\n",
    "    \n",
    "    non_nan_similar_items = similar_items[start:]\n",
    "\n",
    "    # Filter out items the user hasn't rated\n",
    "    rated_items = [item for item in non_nan_similar_items \n",
    "                         if not np.isnan(ratings[user_id][item])]\n",
    "    \n",
    "    top_n_rated_items = rated_items[:N]  # Select top N similar items\n",
    "\n",
    "\n",
    "    if len(top_n_rated_items) < N:\n",
    "        # If the user has not rated any similar items, return the average rating of the user\n",
    "        print(\"Hi\")\n",
    "        return np.nanmean(user_ratings)\n",
    "    \n",
    "    # Get the user's ratings for the top N similar items and the corresponding similarities\n",
    "    top_n_ratings = user_ratings[top_n_rated_items]\n",
    "    top_n_similarities = item_similarities[top_n_rated_items]\n",
    "    \n",
    "    # return np.sum(top_n_ratings) / N\n",
    "\n",
    "    # Calculate the weighted sum of the ratings\n",
    "    weighted_ratings_sum = np.dot(top_n_ratings, top_n_similarities)\n",
    "    \n",
    "    # Calculate the sum of the absolute values of the similarities\n",
    "\n",
    "    similarity_sum = np.sum(top_n_similarities)\n",
    "    \n",
    "    # Return the weighted average as the predicted rating\n",
    "    if similarity_sum != 0 : \n",
    "        predicted_rating = weighted_ratings_sum / similarity_sum\n",
    "    else : \n",
    "        print(\"1\")\n",
    "        predicted_rating = 0\n",
    "    \n",
    "    return predicted_rating\n",
    "\n",
    "loss = 0\n",
    "cnt = 0\n",
    "for x in range(user_cutoff,num_users):\n",
    "    for i in range(tag_cutoff,num_tags):\n",
    "        if np.isnan(utility_matrix[x][i]): continue\n",
    "        else : \n",
    "            true_value = utility_matrix[x][i]\n",
    "            ans = predict_rating(x,i,utility_matrix,similarity_matrix,2)\n",
    "            if(np.isnan(ans)) : \n",
    "                print(x,i,'Hello')\n",
    "            loss = loss + (true_value - ans)*(true_value - ans)\n",
    "            cnt += 1\n",
    "\n",
    "\n",
    "print(np.sqrt(loss / cnt),cnt,(num_users-user_cutoff)*(num_tags-tag_cutoff))\n"
   ]
  },
  {
   "cell_type": "markdown",
   "metadata": {},
   "source": [
    "&nbsp;\n",
    "### Question 5:"
   ]
  },
  {
   "cell_type": "code",
   "execution_count": 14,
   "metadata": {},
   "outputs": [
    {
     "name": "stdout",
     "output_type": "stream",
     "text": [
      "Epoch 1/10: Loss = 0.5436396205776485\n",
      "Epoch 2/10: Loss = 0.5126640351071505\n",
      "Epoch 3/10: Loss = 0.49176633185046253\n",
      "Epoch 4/10: Loss = 0.4762516750167031\n",
      "Epoch 5/10: Loss = 0.4639223007254882\n",
      "Epoch 6/10: Loss = 0.45362393920633987\n",
      "Epoch 7/10: Loss = 0.4446978668174145\n",
      "Epoch 8/10: Loss = 0.43674477726151956\n",
      "Epoch 9/10: Loss = 0.4295117269633435\n",
      "Epoch 10/10: Loss = 0.4228332646424258\n",
      "Latent Factors: 2\n",
      "RMSE with regularization (lambda1=0, lambda2=0): 0.6502563068840066\n",
      "Epoch 1/10: Loss = 0.5491596684781092\n",
      "Epoch 2/10: Loss = 0.5186950769134193\n",
      "Epoch 3/10: Loss = 0.4975453314208623\n",
      "Epoch 4/10: Loss = 0.48160958179054375\n",
      "Epoch 5/10: Loss = 0.4688542790691744\n",
      "Epoch 6/10: Loss = 0.45816735124821817\n",
      "Epoch 7/10: Loss = 0.44889566312225954\n",
      "Epoch 8/10: Loss = 0.4406349205333748\n",
      "Epoch 9/10: Loss = 0.43312498837701613\n",
      "Epoch 10/10: Loss = 0.4261937021240384\n",
      "Latent Factors: 2\n",
      "RMSE with regularization (lambda1=0.001, lambda2=0.003): 0.6528236852747852\n",
      "Epoch 1/10: Loss = 0.545125241473168\n",
      "Epoch 2/10: Loss = 0.5135800841321947\n",
      "Epoch 3/10: Loss = 0.4929530275953376\n",
      "Epoch 4/10: Loss = 0.4780007545992254\n",
      "Epoch 5/10: Loss = 0.4663605740398586\n",
      "Epoch 6/10: Loss = 0.4568111942851916\n",
      "Epoch 7/10: Loss = 0.44865856695304146\n",
      "Epoch 8/10: Loss = 0.4414811595860344\n",
      "Epoch 9/10: Loss = 0.435010498488485\n",
      "Epoch 10/10: Loss = 0.42906963787770164\n",
      "Latent Factors: 2\n",
      "RMSE with regularization (lambda1=0.05, lambda2=0.05): 0.6547426645052332\n",
      "Epoch 1/10: Loss = 0.5345691631820476\n",
      "Epoch 2/10: Loss = 0.509963740252819\n",
      "Epoch 3/10: Loss = 0.5012383005207881\n",
      "Epoch 4/10: Loss = 0.4983318105295443\n",
      "Epoch 5/10: Loss = 0.4979272757590151\n",
      "Epoch 6/10: Loss = 0.4986907282525589\n",
      "Epoch 7/10: Loss = 0.5000118675161599\n",
      "Epoch 8/10: Loss = 0.501586641655288\n",
      "Epoch 9/10: Loss = 0.5032551273472884\n",
      "Epoch 10/10: Loss = 0.5049306800239894\n",
      "Latent Factors: 2\n",
      "RMSE with regularization (lambda1=0.5, lambda2=0.75): 0.7088231188951757\n",
      "Epoch 1/10: Loss = 1.007225717018729\n",
      "Epoch 2/10: Loss = 0.8029399246623322\n",
      "Epoch 3/10: Loss = 0.7041384260242867\n",
      "Epoch 4/10: Loss = 0.645906682368848\n",
      "Epoch 5/10: Loss = 0.6073842775576471\n",
      "Epoch 6/10: Loss = 0.5798414647768971\n",
      "Epoch 7/10: Loss = 0.5589915451976366\n",
      "Epoch 8/10: Loss = 0.5424897738479134\n",
      "Epoch 9/10: Loss = 0.5289495371799862\n",
      "Epoch 10/10: Loss = 0.5175008669084704\n",
      "Latent Factors: 5\n",
      "RMSE with regularization (lambda1=0, lambda2=0): 0.7193753310396979\n",
      "Epoch 1/10: Loss = 0.9996266212051056\n",
      "Epoch 2/10: Loss = 0.8035494912612808\n",
      "Epoch 3/10: Loss = 0.7062881633505718\n",
      "Epoch 4/10: Loss = 0.6482943509759849\n",
      "Epoch 5/10: Loss = 0.6096442748815776\n",
      "Epoch 6/10: Loss = 0.5818441259793743\n",
      "Epoch 7/10: Loss = 0.5606813049453927\n",
      "Epoch 8/10: Loss = 0.5438365512357809\n",
      "Epoch 9/10: Loss = 0.5299311348672356\n",
      "Epoch 10/10: Loss = 0.5180957659994521\n",
      "Latent Factors: 5\n",
      "RMSE with regularization (lambda1=0.001, lambda2=0.003): 0.7197677106192905\n",
      "Epoch 1/10: Loss = 0.9777564836114033\n",
      "Epoch 2/10: Loss = 0.7789505692942577\n",
      "Epoch 3/10: Loss = 0.6840298670011935\n",
      "Epoch 4/10: Loss = 0.6286304467967037\n",
      "Epoch 5/10: Loss = 0.5922880790928993\n",
      "Epoch 6/10: Loss = 0.5665066812237519\n",
      "Epoch 7/10: Loss = 0.5471396168872543\n",
      "Epoch 8/10: Loss = 0.5319288730904956\n",
      "Epoch 9/10: Loss = 0.5195433221128418\n",
      "Epoch 10/10: Loss = 0.5091495522514587\n",
      "Latent Factors: 5\n",
      "RMSE with regularization (lambda1=0.05, lambda2=0.05): 0.7130083191690727\n",
      "Epoch 1/10: Loss = 0.8307568186014811\n",
      "Epoch 2/10: Loss = 0.6589003369387129\n",
      "Epoch 3/10: Loss = 0.5911563308985918\n",
      "Epoch 4/10: Loss = 0.5577449766740401\n",
      "Epoch 5/10: Loss = 0.5393538944084155\n",
      "Epoch 6/10: Loss = 0.5286027955317392\n",
      "Epoch 7/10: Loss = 0.5221192791306751\n",
      "Epoch 8/10: Loss = 0.5181763092160437\n",
      "Epoch 9/10: Loss = 0.5158160657914023\n",
      "Epoch 10/10: Loss = 0.5144749394789445\n",
      "Latent Factors: 5\n",
      "RMSE with regularization (lambda1=0.5, lambda2=0.75): 0.7135282003774741\n",
      "Epoch 1/10: Loss = 1.9167125939588612\n",
      "Epoch 2/10: Loss = 1.2784026898969354\n",
      "Epoch 3/10: Loss = 1.0214386269499691\n",
      "Epoch 4/10: Loss = 0.8836230191861231\n",
      "Epoch 5/10: Loss = 0.7979871529343259\n",
      "Epoch 6/10: Loss = 0.7396459497699545\n",
      "Epoch 7/10: Loss = 0.6972698870805416\n",
      "Epoch 8/10: Loss = 0.664979222940139\n",
      "Epoch 9/10: Loss = 0.6394252415601409\n",
      "Epoch 10/10: Loss = 0.6185617903063347\n",
      "Latent Factors: 10\n",
      "RMSE with regularization (lambda1=0, lambda2=0): 0.7864869930941942\n",
      "Epoch 1/10: Loss = 1.9003194792501055\n",
      "Epoch 2/10: Loss = 1.2741072029648783\n",
      "Epoch 3/10: Loss = 1.0205806497691756\n",
      "Epoch 4/10: Loss = 0.88425430559789\n",
      "Epoch 5/10: Loss = 0.7993686483956258\n",
      "Epoch 6/10: Loss = 0.7414407408542977\n",
      "Epoch 7/10: Loss = 0.6993185289423517\n",
      "Epoch 8/10: Loss = 0.6672126622687268\n",
      "Epoch 9/10: Loss = 0.641824950248682\n",
      "Epoch 10/10: Loss = 0.6211398644795456\n",
      "Latent Factors: 10\n",
      "RMSE with regularization (lambda1=0.001, lambda2=0.003): 0.7880909616210211\n",
      "Epoch 1/10: Loss = 1.9204150656609675\n",
      "Epoch 2/10: Loss = 1.2672380931152354\n",
      "Epoch 3/10: Loss = 1.0063641386901288\n",
      "Epoch 4/10: Loss = 0.8674396356362146\n",
      "Epoch 5/10: Loss = 0.7817006510995207\n",
      "Epoch 6/10: Loss = 0.7237086119475974\n",
      "Epoch 7/10: Loss = 0.6819236647675346\n",
      "Epoch 8/10: Loss = 0.6503745006009736\n",
      "Epoch 9/10: Loss = 0.6256696206293164\n",
      "Epoch 10/10: Loss = 0.6057432443493745\n",
      "Latent Factors: 10\n",
      "RMSE with regularization (lambda1=0.05, lambda2=0.05): 0.7774219849461378\n",
      "Epoch 1/10: Loss = 1.560618213318214\n",
      "Epoch 2/10: Loss = 0.996920311887888\n",
      "Epoch 3/10: Loss = 0.7920189559701938\n",
      "Epoch 4/10: Loss = 0.6921250215246131\n",
      "Epoch 5/10: Loss = 0.6357501559402428\n",
      "Epoch 6/10: Loss = 0.6009880916826523\n",
      "Epoch 7/10: Loss = 0.5782486778597743\n",
      "Epoch 8/10: Loss = 0.5627419501811034\n",
      "Epoch 9/10: Loss = 0.551843215691292\n",
      "Epoch 10/10: Loss = 0.5440115216793107\n",
      "Latent Factors: 10\n",
      "RMSE with regularization (lambda1=0.5, lambda2=0.75): 0.7310025587423681\n"
     ]
    }
   ],
   "source": [
    "import numpy as np\n",
    "from sklearn.metrics import mean_squared_error\n",
    "\n",
    "class MatrixFactorizationSGD:\n",
    "    def __init__(self, R, K, alpha=0.0005, epochs=10, lambda1=0, lambda2=0):\n",
    "        \"\"\"\n",
    "        Initialize the matrix factorization model with two regularization parameters.\n",
    "        \n",
    "        Parameters:\n",
    "        R : np.array (users x items) -> Utility matrix with values NaN, 0, 1, 2, 3, 4, 5\n",
    "        K : int -> Number of latent factors\n",
    "        alpha : float -> Learning rate\n",
    "        epochs : int -> Number of full passes through the data\n",
    "        lambda1 : float -> Regularization parameter for user-feature matrix P\n",
    "        lambda2 : float -> Regularization parameter for item-feature matrix Q\n",
    "        \"\"\"\n",
    "        self.R = R\n",
    "        self.num_users, self.num_items = R.shape\n",
    "        self.K = K  # Number of latent factors\n",
    "        self.alpha = alpha  # Learning rate\n",
    "        self.epochs = epochs  # Number of full passes (epochs)\n",
    "        self.lambda1 = lambda1  # Regularization parameter for P\n",
    "        self.lambda2 = lambda2  # Regularization parameter for Q\n",
    "        self.P = np.random.rand(self.num_users, K)  # User-feature matrix\n",
    "        self.Q = np.random.rand(self.num_items, K)  # Item-feature matrix\n",
    "\n",
    "    def train(self):\n",
    "        \"\"\"\n",
    "        Train the matrix factorization model using stochastic gradient descent (SGD) over multiple epochs.\n",
    "        \"\"\"\n",
    "        for epoch in range(self.epochs):\n",
    "            for i in range(self.num_users):\n",
    "                for j in range(self.num_items):\n",
    "                    if not np.isnan(self.R[i][j]):  # Skip NaN values\n",
    "                        # Compute the prediction error\n",
    "                        eij = self.R[i][j] - np.dot(self.P[i, :], self.Q[j, :])\n",
    "\n",
    "                        # Update P and Q matrices with regularization terms lambda1 and lambda2\n",
    "                        for k in range(self.K):\n",
    "                            self.P[i][k] += self.alpha * (2 * eij * self.Q[j][k] - 2 * self.lambda1 * self.P[i][k])\n",
    "                            self.Q[j][k] += self.alpha * (2 * eij * self.P[i][k] - 2 * self.lambda2 * self.Q[j][k])\n",
    "            \n",
    "            # Compute and print the loss at the end of each epoch\n",
    "            loss = self.compute_loss()\n",
    "            print(f\"Epoch {epoch + 1}/{self.epochs}: Loss = {loss}\")\n",
    "        \n",
    "        return self.P, self.Q\n",
    "\n",
    "    def compute_loss(self):\n",
    "        \"\"\"\n",
    "        Compute the cost function (loss) with two regularization parameters.\n",
    "        The loss includes the squared error and regularization terms.\n",
    "        \"\"\"\n",
    "        predicted_R = np.dot(self.P, self.Q.T)\n",
    "        loss = 0\n",
    "        num_non_nan_entries = 0\n",
    "\n",
    "        for i in range(self.num_users):\n",
    "            for j in range(self.num_items):\n",
    "                if not np.isnan(self.R[i][j]):  # Only consider non-NaN values\n",
    "                    error = self.R[i][j] - predicted_R[i][j]\n",
    "                    loss += error ** 2\n",
    "                    num_non_nan_entries += 1\n",
    "        \n",
    "        # Adding regularization terms for P and Q matrices\n",
    "        loss += self.lambda1 * np.sum(self.P ** 2)  # Regularization for P\n",
    "        loss += self.lambda2 * np.sum(self.Q ** 2)  # Regularization for Q\n",
    "\n",
    "        # Normalize the loss by the number of non-NaN entries\n",
    "        loss /= num_non_nan_entries\n",
    "\n",
    "        return loss\n",
    "\n",
    "\n",
    "    def predict(self):\n",
    "        \"\"\"\n",
    "        Predict the rating matrix after training.\n",
    "        \"\"\"\n",
    "        return np.dot(self.P, self.Q.T)\n",
    "\n",
    "    def rmse(self, predicted_R):\n",
    "        \"\"\"\n",
    "        Compute the Root Mean Square Error (RMSE) between the predicted and actual ratings.\n",
    "        \"\"\"\n",
    "        actual_ratings = self.R[~np.isnan(self.R)]\n",
    "        predicted_ratings = predicted_R[~np.isnan(self.R)]\n",
    "        return np.sqrt(mean_squared_error(actual_ratings, predicted_ratings))\n",
    "\n",
    "# Test the updated modular code with a sample utility matrix\n",
    "def run_tests():\n",
    "    # Sample utility matrix (NaN represents missing ratings)\n",
    "    R = utility_matrix\n",
    "\n",
    "    # Parameters\n",
    "    latent_factors = [2, 5, 10]\n",
    "    alpha = 0.0005\n",
    "    epochs = 10\n",
    "    lambda1List = [0, 0.001, 0.05, 0.5]  # Regularization parameter for P\n",
    "    lambda2List = [0, 0.003, 0.05, 0.75]  # Regularization parameter for Q\n",
    "\n",
    "    for K in latent_factors:\n",
    "        for lambda1, lambda2 in zip(lambda1List, lambda2List):\n",
    "            mf_reg = MatrixFactorizationSGD(R, K, alpha, epochs, lambda1=lambda1, lambda2=lambda2)\n",
    "            P_reg, Q_reg = mf_reg.train()\n",
    "            predicted_R_reg = mf_reg.predict()\n",
    "            rmse_reg = mf_reg.rmse(predicted_R_reg)\n",
    "\n",
    "            print(f\"Latent Factors: {K}\")\n",
    "            print(f\"RMSE with regularization (lambda1={lambda1}, lambda2={lambda2}): {rmse_reg}\")\n",
    "\n",
    "# Run the tests\n",
    "run_tests()\n"
   ]
  }
 ],
 "metadata": {
  "kernelspec": {
   "display_name": "Python 3",
   "language": "python",
   "name": "python3"
  },
  "language_info": {
   "codemirror_mode": {
    "name": "ipython",
    "version": 3
   },
   "file_extension": ".py",
   "mimetype": "text/x-python",
   "name": "python",
   "nbconvert_exporter": "python",
   "pygments_lexer": "ipython3",
   "version": "3.10.12"
  }
 },
 "nbformat": 4,
 "nbformat_minor": 2
}
