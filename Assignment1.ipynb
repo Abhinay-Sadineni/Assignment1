{
 "cells": [
  {
   "cell_type": "code",
   "execution_count": 110,
   "metadata": {},
   "outputs": [
    {
     "name": "stdout",
     "output_type": "stream",
     "text": [
      "178628\n",
      "63423\n",
      "Qualified Answerers: 1163\n",
      "Qualified Tags: 974\n",
      "Expert Matrix: Tags         1     3     4     7     8     9     11    12    13    14    ...  \\\n",
      "OwnerUserId                                                              ...   \n",
      "4.0            13     0     6     6    61    55     8     3     0     0  ...   \n",
      "6.0             0     0     8     0     6     4     1     2     0     0  ...   \n",
      "11.0            1     0     1     0     0     1     0     1     0     0  ...   \n",
      "14.0            0     0     1     0     1     1     0     1     0     0  ...   \n",
      "15.0            1     0     2     1     4     4     1     1     0     0  ...   \n",
      "...           ...   ...   ...   ...   ...   ...   ...   ...   ...   ...  ...   \n",
      "356695.0        0     0     0     0     0     1     0     0     0     0  ...   \n",
      "366014.0        0     0     0     0     0     0     1     0     0     0  ...   \n",
      "373864.0        0     0     0     0     0     0     0     0     0     0  ...   \n",
      "378329.0        1     0     0     0     0     0     0     0     0     0  ...   \n",
      "379622.0        0     0     0     0     0     0     0     0     0     0  ...   \n",
      "\n",
      "Tags         4639  4646  4661  4682  4683  4687  4690  4704  4720  4750  \n",
      "OwnerUserId                                                              \n",
      "4.0             0     0     0     2     1     1     0     0     1     0  \n",
      "6.0             0     0     0     0     0     0     0     0     0     0  \n",
      "11.0            0     0     0     0     0     0     0     0     0     0  \n",
      "14.0            0     0     0     0     0     0     0     0     0     0  \n",
      "15.0            0     0     0     0     0     0     0     0     0     0  \n",
      "...           ...   ...   ...   ...   ...   ...   ...   ...   ...   ...  \n",
      "356695.0        0     0     1     0     0     0     0     0     0     0  \n",
      "366014.0        0     0     0     0     0     0     0     0     0     0  \n",
      "373864.0        0     0     2     0     0     0     1     0     0     0  \n",
      "378329.0        0     0     1     0     0     0     0     0     5     1  \n",
      "379622.0        0     0     0     0     0     0     0     0     0     0  \n",
      "\n",
      "[1163 rows x 974 columns]\n",
      "Dimensions of the Expert matrix: (1163, 974)\n"
     ]
    }
   ],
   "source": [
    "import pandas as pd\n",
    "\n",
    "# Replace 'file_path.csv' with the actual path to your CSV file\n",
    "posts_df = pd.read_csv('./csv/Posts.csv')\n",
    "Tags = pd.read_csv('./csv/Tags.csv')\n",
    "\n",
    "answers_df = posts_df[posts_df['PostTypeId'] == 2][['Id', 'OwnerUserId', 'ParentId']]\n",
    "answers_df['ParentId'] = answers_df['ParentId'].astype(int)\n",
    "print(len(answers_df))\n",
    "\n",
    "# Step 4: Extract the questions with their tags (where 'PostTypeId == 1')\n",
    "questions_df = posts_df[posts_df['PostTypeId'] == 1][['Id', 'Tags']]\n",
    "\n",
    "# Step 5: Ensure the question Ids are also of type int64\n",
    "questions_df['Id'] = questions_df['Id'].astype(int)\n",
    "print(len(questions_df))\n",
    "\n",
    "\n",
    "# Step 3: Merge answers with the corresponding tags from the question (use ParentId to match question Id)\n",
    "merged_df = pd.merge(answers_df, questions_df, left_on='ParentId', right_on='Id', suffixes=('_answer', '_question'))\n",
    "\n",
    "# Step 4: Select relevant columns\n",
    "filtered_answers_df = merged_df[['Id_answer', 'OwnerUserId', 'Tags']]  # 'Tags' here are from the question\n",
    "answerer_counts = filtered_answers_df.groupby('OwnerUserId').size()\n",
    "qualified_answerers = answerer_counts[answerer_counts >= 20].index\n",
    "print(\"Qualified Answerers:\", len(qualified_answerers))\n",
    "filtered_answers = filtered_answers_df[filtered_answers_df['OwnerUserId'].isin(qualified_answerers)]\n",
    "# print(len(filtered_answers))\n",
    "\n",
    "qualified_tags = Tags[Tags['Count'] >= 20]['Id']\n",
    "print(\"Qualified Tags:\", len(qualified_tags))\n",
    "\n",
    "tag_dict = Tags.set_index('TagName')['Id'].to_dict()\n",
    "\n",
    "tags_expanded = filtered_answers.copy()\n",
    "tags_expanded['Tags'] = tags_expanded['Tags'].str.split('|').apply(lambda x: x[1:-1])\n",
    "tags_expanded = tags_expanded.explode('Tags')\n",
    "tags_expanded['Tags'] = tags_expanded['Tags'].map(tag_dict)\n",
    "tags_expanded = tags_expanded[tags_expanded['Tags'].isin(qualified_tags)]\n",
    "\n",
    "expert_matrix = pd.pivot_table(\n",
    "    tags_expanded, \n",
    "    index='OwnerUserId', \n",
    "    columns='Tags', \n",
    "    aggfunc='size', \n",
    "    fill_value=0\n",
    ")\n",
    "\n",
    "all_qualified_tags = pd.Series(qualified_tags, name='Tags')\n",
    "expert_matrix = expert_matrix.reindex(columns=all_qualified_tags, fill_value=0)\n",
    "print(\"Expert Matrix:\", expert_matrix)\n",
    "\n",
    "# dimensions = utility_matrix_sorted.shape\n",
    "print(\"Dimensions of the Expert matrix:\", expert_matrix.shape)\n"
   ]
  },
  {
   "cell_type": "code",
   "execution_count": 111,
   "metadata": {},
   "outputs": [
    {
     "name": "stdout",
     "output_type": "stream",
     "text": [
      "[[13  0  6 ...  0  1  0]\n",
      " [ 0  0  8 ...  0  0  0]\n",
      " [ 1  0  1 ...  0  0  0]\n",
      " ...\n",
      " [ 0  0  0 ...  0  0  0]\n",
      " [ 1  0  0 ...  0  5  1]\n",
      " [ 0  0  0 ...  0  0  0]]\n"
     ]
    }
   ],
   "source": [
    "import numpy as np\n",
    "expert_matrix = expert_matrix.to_numpy()\n",
    "print(expert_matrix)"
   ]
  },
  {
   "cell_type": "code",
   "execution_count": 121,
   "metadata": {},
   "outputs": [],
   "source": [
    "utility_matrix = np.zeros((len(expert_matrix), len(expert_matrix[0])))\n",
    "# Populate utility_matrix based on the condition\n",
    "for i in range(len(expert_matrix)):\n",
    "    for j in range(len(expert_matrix[0])):\n",
    "        if expert_matrix[i][j] > 15:\n",
    "            utility_matrix[i][j] = 5\n",
    "        else:\n",
    "            utility_matrix[i][j] = expert_matrix[i][j] // 3\n"
   ]
  },
  {
   "cell_type": "code",
   "execution_count": 122,
   "metadata": {},
   "outputs": [
    {
     "name": "stdout",
     "output_type": "stream",
     "text": [
      "[[4. 0. 2. ... 0. 0. 0.]\n",
      " [0. 0. 2. ... 0. 0. 0.]\n",
      " [0. 0. 0. ... 0. 0. 0.]\n",
      " ...\n",
      " [0. 0. 0. ... 0. 0. 0.]\n",
      " [0. 0. 0. ... 0. 1. 0.]\n",
      " [0. 0. 0. ... 0. 0. 0.]]\n"
     ]
    }
   ],
   "source": [
    "print(utility_matrix)"
   ]
  },
  {
   "cell_type": "code",
   "execution_count": 126,
   "metadata": {},
   "outputs": [
    {
     "name": "stdout",
     "output_type": "stream",
     "text": [
      "Utility Matrix Metrics:\n",
      "Summation value of the utility matrix: 41354.0\n",
      "Highest row sum of the utility matrix: 1162.0\n",
      "Highest column sum of the utility matrix: 1403.0\n"
     ]
    }
   ],
   "source": [
    "sum_utility_matrix = np.sum(utility_matrix)\n",
    "highest_row_sum = np.max(np.sum(utility_matrix, axis=1))\n",
    "highest_column_sum = np.max(np.sum(utility_matrix, axis=0))\n",
    "\n",
    "print(\"Utility Matrix Metrics:\")\n",
    "print(\"Summation value of the utility matrix:\", sum_utility_matrix)\n",
    "print(\"Highest row sum of the utility matrix:\", highest_row_sum)\n",
    "print(\"Highest column sum of the utility matrix:\", highest_column_sum)"
   ]
  },
  {
   "cell_type": "code",
   "execution_count": null,
   "metadata": {},
   "outputs": [],
   "source": []
  }
 ],
 "metadata": {
  "kernelspec": {
   "display_name": "Python 3",
   "language": "python",
   "name": "python3"
  },
  "language_info": {
   "codemirror_mode": {
    "name": "ipython",
    "version": 3
   },
   "file_extension": ".py",
   "mimetype": "text/x-python",
   "name": "python",
   "nbconvert_exporter": "python",
   "pygments_lexer": "ipython3",
   "version": "3.10.12"
  }
 },
 "nbformat": 4,
 "nbformat_minor": 2
}
