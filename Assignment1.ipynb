{
 "cells": [
  {
   "cell_type": "code",
   "execution_count": 4,
   "metadata": {},
   "outputs": [
    {
     "name": "stdout",
     "output_type": "stream",
     "text": [
      "Index(['Id', 'OwnerUserId', 'LastEditorUserId', 'PostTypeId',\n",
      "       'AcceptedAnswerId', 'Score', 'ParentId', 'ViewCount', 'AnswerCount',\n",
      "       'CommentCount', 'OwnerDisplayName', 'LastEditorDisplayName', 'Title',\n",
      "       'Tags', 'ContentLicense', 'Body', 'FavoriteCount', 'CreationDate',\n",
      "       'CommunityOwnedDate', 'ClosedDate', 'LastEditDate', 'LastActivityDate'],\n",
      "      dtype='object')\n"
     ]
    }
   ],
   "source": [
    "import pandas as pd\n",
    "\n",
    "# Replace 'file_path.csv' with the actual path to your CSV file\n",
    "df = pd.read_csv('./csv/Posts.csv')\n",
    "\n",
    "# Display the first few rows of the DataFrame\n",
    "print(df.columns)\n"
   ]
  }
 ],
 "metadata": {
  "kernelspec": {
   "display_name": "Python 3",
   "language": "python",
   "name": "python3"
  },
  "language_info": {
   "codemirror_mode": {
    "name": "ipython",
    "version": 3
   },
   "file_extension": ".py",
   "mimetype": "text/x-python",
   "name": "python",
   "nbconvert_exporter": "python",
   "pygments_lexer": "ipython3",
   "version": "3.10.12"
  }
 },
 "nbformat": 4,
 "nbformat_minor": 2
}
